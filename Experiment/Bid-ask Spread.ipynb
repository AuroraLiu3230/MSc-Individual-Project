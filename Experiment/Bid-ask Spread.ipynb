{
 "cells": [
  {
   "cell_type": "code",
   "execution_count": 6,
   "id": "6c09a862",
   "metadata": {},
   "outputs": [],
   "source": [
    "import pandas as pd\n",
    "\n",
    "test_currency = \"USDCAD\"\n",
    "data_ls = [\"USDCAD_202107\",\"USDCAD_202108\",\"USDCAD_202109\",\"USDCAD_202110\",\"USDCAD_202111\",\"USDCAD_202112\",\"USDCAD_202201\",\"USDCAD_202202\",\"USDCAD_202203\",\"USDCAD_202204\",\"USDCAD_202205\",'USDCAD_202206']\n",
    "\n",
    "dfs = []\n",
    "for data in data_ls:\n",
    "    file_path = \"/Users/liuhsiaoching/Desktop/Dissertation/Data/Month/\"+test_currency+\"/\" + data + \".csv\"\n",
    "    \n",
    "    # Read the file into a dataframe\n",
    "    df = pd.read_csv(file_path)\n",
    "    \n",
    "    # Assign column names\n",
    "    df.columns = ['Time', 'Bid', 'Ask', 'Other']\n",
    "    \n",
    "    # Calculate the bid-ask spread\n",
    "    df['Spread'] = df['Ask'] - df['Bid']\n",
    "    \n",
    "    # Append the dataframe to the list\n",
    "    dfs.append(df)\n",
    "    \n",
    "\n",
    "# Concatenate all the dataframes into a single dataframe\n",
    "combined_data = pd.concat(dfs)\n"
   ]
  },
  {
   "cell_type": "code",
   "execution_count": 13,
   "id": "1f7d97bd",
   "metadata": {},
   "outputs": [
    {
     "data": {
      "text/plain": [
       "(0.00013,\n",
       " 6e-05,\n",
       " 0.25    0.00011\n",
       " 0.50    0.00012\n",
       " 0.75    0.00013\n",
       " Name: Spread, dtype: float64)"
      ]
     },
     "execution_count": 13,
     "metadata": {},
     "output_type": "execute_result"
    }
   ],
   "source": [
    "# Calculate the mean, standard deviation, and quantiles for the combined data\n",
    "mean_spread_combined = combined_data['Spread'].mean()\n",
    "std_spread_combined = combined_data['Spread'].std()\n",
    "quantiles_spread_combined = combined_data['Spread'].quantile([0.25, 0.5, 0.75])\n",
    "\n",
    "round(mean_spread_combined,5), round(std_spread_combined,5), round(quantiles_spread_combined,5)"
   ]
  },
  {
   "cell_type": "code",
   "execution_count": 14,
   "id": "402e6e84",
   "metadata": {},
   "outputs": [],
   "source": [
    "test_currency = \"EURNZD\"\n",
    "data_ls = [\"EURNZD_202107\",\"EURNZD_202108\",\"EURNZD_202109\",\"EURNZD_202110\",\"EURNZD_202111\",\"EURNZD_202112\",\"EURNZD_202201\",\"EURNZD_202202\",\"EURNZD_202203\",\"EURNZD_202204\",\"EURNZD_202205\",'EURNZD_202206']\n",
    "\n",
    "dfs = []\n",
    "for data in data_ls:\n",
    "    file_path = \"/Users/liuhsiaoching/Desktop/Dissertation/Data/Month/\"+test_currency+\"/\" + data + \".csv\"\n",
    "    \n",
    "    # Read the file into a dataframe\n",
    "    df = pd.read_csv(file_path)\n",
    "    \n",
    "    # Assign column names\n",
    "    df.columns = ['Time', 'Bid', 'Ask', 'Other']\n",
    "    \n",
    "    # Calculate the bid-ask spread\n",
    "    df['Spread'] = df['Ask'] - df['Bid']\n",
    "    \n",
    "    # Append the dataframe to the list\n",
    "    dfs.append(df)\n",
    "    \n",
    "\n",
    "# Concatenate all the dataframes into a single dataframe\n",
    "combined_data = pd.concat(dfs)"
   ]
  },
  {
   "cell_type": "code",
   "execution_count": 15,
   "id": "e1d16b1b",
   "metadata": {},
   "outputs": [
    {
     "data": {
      "text/plain": [
       "(0.00039,\n",
       " 0.00024,\n",
       " 0.25    0.00032\n",
       " 0.50    0.00036\n",
       " 0.75    0.00039\n",
       " Name: Spread, dtype: float64)"
      ]
     },
     "execution_count": 15,
     "metadata": {},
     "output_type": "execute_result"
    }
   ],
   "source": [
    "# Calculate the mean, standard deviation, and quantiles for the combined data\n",
    "mean_spread_combined = combined_data['Spread'].mean()\n",
    "std_spread_combined = combined_data['Spread'].std()\n",
    "quantiles_spread_combined = combined_data['Spread'].quantile([0.25, 0.5, 0.75])\n",
    "\n",
    "round(mean_spread_combined,5), round(std_spread_combined,5), round(quantiles_spread_combined,5)"
   ]
  },
  {
   "cell_type": "code",
   "execution_count": 16,
   "id": "7dbdd407",
   "metadata": {},
   "outputs": [],
   "source": [
    "test_currency = \"AUDJPY\"\n",
    "data_ls = [\"AUDJPY_202107\",\"AUDJPY_202108\",\"AUDJPY_202109\",\"AUDJPY_202110\",\"AUDJPY_202111\",\"AUDJPY_202112\",\"AUDJPY_202201\",\"AUDJPY_202202\",\"AUDJPY_202203\",\"AUDJPY_202204\",\"AUDJPY_202205\",'AUDJPY_202206']\n",
    "\n",
    "dfs = []\n",
    "for data in data_ls:\n",
    "    file_path = \"/Users/liuhsiaoching/Desktop/Dissertation/Data/Month/\"+test_currency+\"/\" + data + \".csv\"\n",
    "    \n",
    "    # Read the file into a dataframe\n",
    "    df = pd.read_csv(file_path)\n",
    "    \n",
    "    # Assign column names\n",
    "    df.columns = ['Time', 'Bid', 'Ask', 'Other']\n",
    "    \n",
    "    # Calculate the bid-ask spread\n",
    "    df['Spread'] = df['Ask'] - df['Bid']\n",
    "    \n",
    "    # Append the dataframe to the list\n",
    "    dfs.append(df)\n",
    "    \n",
    "\n",
    "# Concatenate all the dataframes into a single dataframe\n",
    "combined_data = pd.concat(dfs)"
   ]
  },
  {
   "cell_type": "code",
   "execution_count": 17,
   "id": "d303284e",
   "metadata": {},
   "outputs": [
    {
     "data": {
      "text/plain": [
       "(0.00859,\n",
       " 0.00881,\n",
       " 0.25    0.006\n",
       " 0.50    0.007\n",
       " 0.75    0.009\n",
       " Name: Spread, dtype: float64)"
      ]
     },
     "execution_count": 17,
     "metadata": {},
     "output_type": "execute_result"
    }
   ],
   "source": [
    "# Calculate the mean, standard deviation, and quantiles for the combined data\n",
    "mean_spread_combined = combined_data['Spread'].mean()\n",
    "std_spread_combined = combined_data['Spread'].std()\n",
    "quantiles_spread_combined = combined_data['Spread'].quantile([0.25, 0.5, 0.75])\n",
    "\n",
    "round(mean_spread_combined,5), round(std_spread_combined,5), round(quantiles_spread_combined,5)"
   ]
  },
  {
   "cell_type": "code",
   "execution_count": 21,
   "id": "e1adfe1f",
   "metadata": {},
   "outputs": [
    {
     "data": {
      "text/plain": [
       "0          0.004\n",
       "1          0.005\n",
       "2          0.005\n",
       "3          0.005\n",
       "4          0.006\n",
       "           ...  \n",
       "4686371    0.011\n",
       "4686372    0.011\n",
       "4686373    0.011\n",
       "4686374    0.011\n",
       "4686375    0.008\n",
       "Name: Spread, Length: 35192535, dtype: float64"
      ]
     },
     "execution_count": 21,
     "metadata": {},
     "output_type": "execute_result"
    }
   ],
   "source": [
    "combined_data['Spread']"
   ]
  },
  {
   "cell_type": "code",
   "execution_count": null,
   "id": "f0cf6cd0",
   "metadata": {},
   "outputs": [],
   "source": []
  }
 ],
 "metadata": {
  "kernelspec": {
   "display_name": "base",
   "language": "python",
   "name": "python3"
  },
  "language_info": {
   "codemirror_mode": {
    "name": "ipython",
    "version": 3
   },
   "file_extension": ".py",
   "mimetype": "text/x-python",
   "name": "python",
   "nbconvert_exporter": "python",
   "pygments_lexer": "ipython3",
   "version": "3.10.8"
  },
  "vscode": {
   "interpreter": {
    "hash": "f497dca8b8959cdfd96105feb227e35739d0397e38cdbb5c92658129a1711770"
   }
  }
 },
 "nbformat": 4,
 "nbformat_minor": 5
}
